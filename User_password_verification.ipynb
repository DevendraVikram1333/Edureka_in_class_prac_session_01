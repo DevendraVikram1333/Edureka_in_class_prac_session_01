{
  "nbformat": 4,
  "nbformat_minor": 0,
  "metadata": {
    "colab": {
      "name": "User_password_verification.ipynb",
      "provenance": []
    },
    "kernelspec": {
      "name": "python3",
      "display_name": "Python 3"
    },
    "language_info": {
      "name": "python"
    }
  },
  "cells": [
    {
      "cell_type": "markdown",
      "metadata": {
        "id": "oOhcsYtLucD-"
      },
      "source": [
        "WAP a program for user password verification is valid or invalid"
      ]
    },
    {
      "cell_type": "code",
      "metadata": {
        "colab": {
          "base_uri": "https://localhost:8080/"
        },
        "id": "O37Z7EQLupAq",
        "outputId": "b56673a8-ffa8-4d2f-d498-2e0b9e505276"
      },
      "source": [
        "\n",
        "import re\n",
        "password=input(\"Enter the password\")\n",
        "pasWord=True\n",
        "while pasWord:\n",
        "        \n",
        "    if len(password)<9:\n",
        "        print(f\"invalid password, it must be 8 character {password}\") \n",
        "        break\n",
        "    elif not re.search('[a-z]',password):\n",
        "        print(f\"Lower case is missing {password}\")\n",
        "        break\n",
        "    elif not re.search('[A-Z]',password):\n",
        "        print(f\"Upper case is missing {password}\")\n",
        "        break\n",
        "    elif not re.search('[0-9]',password):\n",
        "        print(f\"Numeric digit are missing {password}\")\n",
        "        break\n",
        "    elif not re.search('[@#$&*^%+=!]',password):\n",
        "        print(f\"Special Character are missing {password}\")\n",
        "        break\n",
        "    else:\n",
        "        print(f\"Your password is valid and Created {password}\")\n",
        "        break\n",
        "if pasWord==False:\n",
        "    print(\"Invalid Password\")\n",
        "\n",
        "    \n"
      ],
      "execution_count": 1,
      "outputs": [
        {
          "output_type": "stream",
          "name": "stdout",
          "text": [
            "Enter the passwordRaj@123456.$\n",
            "Your password is valid and Created Raj@123456.$\n"
          ]
        }
      ]
    }
  ]
}