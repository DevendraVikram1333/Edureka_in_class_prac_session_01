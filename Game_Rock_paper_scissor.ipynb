{
  "nbformat": 4,
  "nbformat_minor": 0,
  "metadata": {
    "colab": {
      "name": "Game_Rock_paper_scissor.ipynb",
      "provenance": [],
      "collapsed_sections": []
    },
    "kernelspec": {
      "name": "python3",
      "display_name": "Python 3"
    },
    "language_info": {
      "name": "python"
    }
  },
  "cells": [
    {
      "cell_type": "markdown",
      "metadata": {
        "id": "_FmbJBxQroeW"
      },
      "source": [
        "Design a Game of Rock Paper and Scissor\n"
      ]
    },
    {
      "cell_type": "code",
      "metadata": {
        "colab": {
          "base_uri": "https://localhost:8080/"
        },
        "id": "eWVK_n4xruRb",
        "outputId": "60f4ec28-ffc8-4ec7-c423-9dc602c01140"
      },
      "source": [
        "import random\n",
        "\n",
        "def winGame(comp):\n",
        "\n",
        "    while True:\n",
        "        you=input(\"Your Choice: Rock (r), Paper (p), Scissor (s)\")\n",
        "        if you==comp:\n",
        "            print(\"Match is Tie:\")\n",
        "            break\n",
        "        elif you=='p':\n",
        "            if comp=='r':\n",
        "                print(\"you win\")\n",
        "                break\n",
        "            else:\n",
        "                print(\"you lose\")\n",
        "                break\n",
        "        elif you=='s':\n",
        "            if comp=='p':\n",
        "                print(\"You win\")\n",
        "                break\n",
        "            else:\n",
        "                print(\"you lose\")\n",
        "                break\n",
        "        elif you=='r':\n",
        "            if comp=='s':\n",
        "                print(\"you win\")\n",
        "                break\n",
        "            else:\n",
        "                print(\"you lose\")\n",
        "                break\n",
        "        else:\n",
        "            print(f\"invalid entry by you: {you}\")\n",
        "\n",
        "\n",
        "\n",
        "rand_num=random.randint(1,3)\n",
        "print(\"Computer Choice: Rock (r), Paper (p), Scissor (s)\")\n",
        "\n",
        "if rand_num==1:\n",
        "    comp='r'\n",
        "elif rand_num==2:\n",
        "    comp='p'\n",
        "elif rand_num==3:\n",
        "    comp='s'\n",
        "winGame(comp)\n",
        "\n"
      ],
      "execution_count": 4,
      "outputs": [
        {
          "output_type": "stream",
          "name": "stdout",
          "text": [
            "Computer Choice: Rock (r), Paper (p), Scissor (s)\n",
            "Your Choice: Rock (r), Paper (p), Scissor (s)w\n",
            "invalid entry by you: w\n",
            "Your Choice: Rock (r), Paper (p), Scissor (s)s\n",
            "you lose\n"
          ]
        }
      ]
    }
  ]
}